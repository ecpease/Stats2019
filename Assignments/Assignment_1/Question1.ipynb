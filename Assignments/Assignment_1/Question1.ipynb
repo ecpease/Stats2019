{
 "cells": [
  {
   "cell_type": "markdown",
   "metadata": {},
   "source": [
    "# a"
   ]
  },
  {
   "cell_type": "markdown",
   "metadata": {},
   "source": [
    "Y = bo + b1X1 + b2X2 + epsilon\n",
    "\n",
    "Y represents income\n",
    "\n",
    "X1 represents race (A/B)\n",
    "\n",
    "X1_i = Race A = 0\n",
    "\n",
    "X1_j = Race B = 1\n",
    "\n",
    "X2 represents sex (Male/Female)\n",
    "\n",
    "X2_i = Male = 0\n",
    "\n",
    "X2_j = Female = 1"
   ]
  },
  {
   "cell_type": "markdown",
   "metadata": {},
   "source": [
    "# b"
   ]
  },
  {
   "cell_type": "markdown",
   "metadata": {},
   "source": [
    "The coefficient b0 represents the intercept.\n",
    "\n",
    "The coefficients b1 and b2 represent the rate of change (slope) of race and sex, respectively."
   ]
  },
  {
   "cell_type": "markdown",
   "metadata": {},
   "source": [
    "# c"
   ]
  },
  {
   "cell_type": "markdown",
   "metadata": {},
   "source": [
    "The new equation, when the main effects are dropped, is y = b0 + epsilon.\n",
    "\n",
    "b0 represents the intercept of the model. This case would occur when both X1 and X2 are 0 (Race A and Male)."
   ]
  },
  {
   "cell_type": "markdown",
   "metadata": {},
   "source": [
    "# d"
   ]
  },
  {
   "cell_type": "markdown",
   "metadata": {},
   "source": [
    "We are given two main effects (male/female, A/B).  Therefore, we have a two-way interaction and both main effects must be included in the model.  \n",
    "\n",
    "The relevance of the hierarchical model is that we can have four different models, each with different combinations of X being set to 0 or 1.  \n",
    "\n",
    "\n",
    "Y = b0 + b1X1_j + b2X2_j + epsilon\n",
    "\n",
    "Y = b0 + b1X1_j + epsilon\n",
    "\n",
    "Y = b0 + b2X2_j + epsilon\n",
    "\n",
    "Y = b0 + epsilon"
   ]
  },
  {
   "cell_type": "code",
   "execution_count": null,
   "metadata": {},
   "outputs": [],
   "source": []
  }
 ],
 "metadata": {
  "kernelspec": {
   "display_name": "Python 3",
   "language": "python",
   "name": "python3"
  },
  "language_info": {
   "codemirror_mode": {
    "name": "ipython",
    "version": 3
   },
   "file_extension": ".py",
   "mimetype": "text/x-python",
   "name": "python",
   "nbconvert_exporter": "python",
   "pygments_lexer": "ipython3",
   "version": "3.6.7"
  }
 },
 "nbformat": 4,
 "nbformat_minor": 2
}
